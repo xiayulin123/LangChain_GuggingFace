{
 "cells": [
  {
   "cell_type": "code",
   "execution_count": 96,
   "metadata": {},
   "outputs": [],
   "source": [
    "from langchain_openai import ChatOpenAI"
   ]
  },
  {
   "cell_type": "code",
   "execution_count": 97,
   "metadata": {},
   "outputs": [],
   "source": [
    "import os\n",
    "from dotenv import load_dotenv\n",
    "load_dotenv()\n",
    "api_key = os.getenv(\"OPENAI_API_KEY\")\n"
   ]
  },
  {
   "cell_type": "code",
   "execution_count": 98,
   "metadata": {},
   "outputs": [],
   "source": [
    "llm = ChatOpenAI(model=\"gpt-3.5-turbo-0613\",openai_api_key= api_key,temperature=0.4)"
   ]
  },
  {
   "cell_type": "code",
   "execution_count": 99,
   "metadata": {},
   "outputs": [
    {
     "name": "stdout",
     "output_type": "stream",
     "text": [
      "As an AI, I don't have personal opinions or thoughts. However, I can provide you with some general information about the University of Waterloo. \n",
      "\n",
      "The University of Waterloo is a well-regarded institution known for its strong programs in engineering, computer science, mathematics, and co-operative education. It is located in Waterloo, Ontario, Canada. The university has a reputation for its innovative approach to education and research, and it is often ranked among the top universities in Canada and globally.\n",
      "\n",
      "One of the notable aspects of the University of Waterloo is its co-operative education program, which allows students to gain practical work experience related to their field of study. This program is highly regarded and helps students develop valuable skills and connections in the industry.\n",
      "\n",
      "The university also has a vibrant campus life with various clubs, organizations, and events that cater to different interests and passions. Additionally, Waterloo is known for its strong entrepreneurial culture, and the university actively supports and encourages student entrepreneurship.\n",
      "\n",
      "Overall, the University of Waterloo is considered a prestigious institution with a strong academic reputation, particularly in the fields of technology and innovation.\n"
     ]
    }
   ],
   "source": [
    "text = \"How do you think of Univery of Waterloo\"\n",
    "\n",
    "print(llm.predict(text))"
   ]
  },
  {
   "cell_type": "code",
   "execution_count": 100,
   "metadata": {},
   "outputs": [],
   "source": [
    "hugging_api_key = os.getenv(\"HUGGINGFACEHUB_API_TOKEN\")\n",
    "os.environ[\"HUGGINGFACEHUB_API_TOKEN\"] = str(hugging_api_key)"
   ]
  },
  {
   "cell_type": "code",
   "execution_count": 101,
   "metadata": {},
   "outputs": [],
   "source": [
    "from langchain import HuggingFaceHub\n",
    "llm_huggingface = HuggingFaceHub(repo_id=\"google/flan-t5-xxl\", model_kwargs={\"temperature\": 0.5, \"max_length\": 64})"
   ]
  },
  {
   "cell_type": "code",
   "execution_count": 102,
   "metadata": {},
   "outputs": [
    {
     "name": "stdout",
     "output_type": "stream",
     "text": [
      "5 x 10\n"
     ]
    }
   ],
   "source": [
    "result = llm_huggingface.predict(\"what is answer of 5 * 10\")\n",
    "print(result)"
   ]
  },
  {
   "cell_type": "code",
   "execution_count": 103,
   "metadata": {},
   "outputs": [
    {
     "name": "stdout",
     "output_type": "stream",
     "text": [
      "The University of Waterloo is a public university located in the city of Waterloo, Ontario, Canada. The university is located in the heart of the city and is one of Canada's largest universities.\n"
     ]
    }
   ],
   "source": [
    "result = llm_huggingface.predict(\"Introduce university of waterloo for me\")\n",
    "print(result)"
   ]
  },
  {
   "cell_type": "code",
   "execution_count": 104,
   "metadata": {},
   "outputs": [
    {
     "data": {
      "text/plain": [
       "\"The University of Waterloo is a renowned public research university located in Waterloo, Ontario, Canada. Established in 1957, it has grown to become one of the leading institutions in Canada and worldwide for its excellence in education and research.\\n\\nThe university is known for its strong emphasis on cooperative education, which integrates academic studies with practical work experience. Waterloo's co-op program is one of the largest in the world, offering students the opportunity to gain valuable industry experience and develop professional skills while completing their degree.\\n\\nWaterloo is particularly recognized for its programs in engineering, computer science, mathematics, and science. It is home to the largest engineering school in Canada and has a strong reputation for producing highly skilled graduates in these fields. The university also offers a wide range of programs in arts, health, environment, business, and social sciences.\\n\\nResearch is a key focus at the University of Waterloo, with faculty and students involved in groundbreaking studies across various disciplines. The university is known for its strengths in areas such as quantum computing, artificial intelligence, cybersecurity, nanotechnology, and environmental sustainability.\\n\\nIn addition to its academic and research excellence, Waterloo offers a vibrant campus life with numerous extracurricular activities, clubs, and sports teams. The university is located in the heart of Canada's technology hub, providing students with access to a thriving tech industry and numerous employment opportunities.\\n\\nOverall, the University of Waterloo is a prestigious institution that provides students with a world-class education, hands-on experience through co-op programs, and a supportive community for personal and professional growth.\""
      ]
     },
     "execution_count": 104,
     "metadata": {},
     "output_type": "execute_result"
    }
   ],
   "source": [
    "llm.predict(\"Introduce university of waterloo for me\")"
   ]
  },
  {
   "cell_type": "markdown",
   "metadata": {},
   "source": [
    "## LLM chain and Prompt"
   ]
  },
  {
   "cell_type": "code",
   "execution_count": 105,
   "metadata": {},
   "outputs": [
    {
     "data": {
      "text/plain": [
       "'How was the salary of Software Developer'"
      ]
     },
     "execution_count": 105,
     "metadata": {},
     "output_type": "execute_result"
    }
   ],
   "source": [
    "from langchain.prompts import PromptTemplate\n",
    "\n",
    "prompt_template = PromptTemplate(input_variables=['job'],\n",
    "template=\"How was the salary of {job}\")\n",
    "\n",
    "prompt_template.format(job=\"Software Developer\")"
   ]
  },
  {
   "cell_type": "code",
   "execution_count": 106,
   "metadata": {},
   "outputs": [
    {
     "data": {
      "text/plain": [
       "'The salary of a software developer can vary depending on various factors such as location, experience, education, and company size. On average, software developers tend to have a higher salary compared to many other professions.\\n\\nAccording to the United States Bureau of Labor Statistics, as of May 2020, the median annual wage for software developers was $110,140. However, this can range from around $65,000 to over $160,000 or more, depending on the factors mentioned above.\\n\\nIn addition to the base salary, software developers may also receive benefits such as bonuses, stock options, and other perks depending on the company and industry.'"
      ]
     },
     "execution_count": 106,
     "metadata": {},
     "output_type": "execute_result"
    }
   ],
   "source": [
    "from langchain.chains import LLMChain\n",
    "chain = LLMChain(llm = llm, prompt=prompt_template)\n",
    "chain.run(\"Software developer\")\n"
   ]
  },
  {
   "cell_type": "markdown",
   "metadata": {},
   "source": [
    "## combine multiple chains using simple sequential chain"
   ]
  },
  {
   "cell_type": "code",
   "execution_count": 111,
   "metadata": {},
   "outputs": [],
   "source": [
    "search_prompt = PromptTemplate(input_variables=[\"job\"], \n",
    "template = \"please tell me the average salary of {job}\")\n",
    "\n",
    "search_chain = LLMChain(llm = llm, prompt = search_prompt)\n",
    "\n",
    "famous_template = PromptTemplate(input_variables=[\"job\"], \n",
    "template=\"tell me some suggestions to work as a {job}\")"
   ]
  },
  {
   "cell_type": "code",
   "execution_count": 112,
   "metadata": {},
   "outputs": [],
   "source": [
    "famous_chain = LLMChain(llm = llm, prompt= famous_template)"
   ]
  },
  {
   "cell_type": "code",
   "execution_count": 113,
   "metadata": {},
   "outputs": [
    {
     "data": {
      "text/plain": [
       "'If you are interested in working as a software developer, here are some suggestions to consider:\\n\\n1. Gain a strong educational foundation: Pursue a degree in computer science, software engineering, or a related field. A solid educational background can help you develop the necessary skills and knowledge required for the job.\\n\\n2. Build a diverse skill set: Apart from core programming languages like Java, C++, or Python, consider learning other relevant technologies and frameworks such as JavaScript, HTML/CSS, SQL, or cloud computing platforms. This will make you more versatile and marketable to potential employers.\\n\\n3. Gain practical experience: Look for internships, co-op programs, or entry-level positions to gain hands-on experience in software development. This will not only enhance your skills but also provide valuable industry exposure.\\n\\n4. Develop a portfolio: Create a portfolio showcasing your projects and applications. This will demonstrate your abilities to potential employers and provide tangible evidence of your skills.\\n\\n5. Participate in open-source projects: Contribute to open-source projects on platforms like GitHub. This allows you to collaborate with other developers, gain experience working on real-world projects, and showcase your contributions to potential employers.\\n\\n6. Networking: Attend industry events, conferences, and meetups to connect with professionals in the field. Networking can provide valuable insights, job opportunities, and mentorship.\\n\\n7. Continuous learning: Stay updated with the latest industry trends, technologies, and best practices. Software development is a rapidly evolving field, and continuous learning is essential to stay competitive.\\n\\n8. Consider certifications: Obtain relevant certifications such as Certified Software Development Professional (CSDP) or Microsoft Certified: Azure Developer Associate. Certifications can provide additional credibility and demonstrate your expertise in specific areas.\\n\\n9. Research salary ranges: Research the average salary range for software developers in your desired location and industry. This will give you an idea of what to expect and help you negotiate a fair compensation package.\\n\\n10. Prepare for interviews: Practice coding exercises, algorithms, and data structure problems commonly asked in technical interviews. Additionally, be prepared to discuss your projects, problem-solving skills, and your ability to work in a team.\\n\\nRemember, salary is just one aspect of a job. Consider other factors such as company culture, work-life balance, growth opportunities, and benefits when evaluating job offers.'"
      ]
     },
     "execution_count": 113,
     "metadata": {},
     "output_type": "execute_result"
    }
   ],
   "source": [
    "from langchain.chains import SimpleSequentialChain\n",
    "\n",
    "chain = SimpleSequentialChain(chains=[search_chain, famous_chain])\n",
    "\n",
    "chain.run(\"software developer\")"
   ]
  },
  {
   "cell_type": "code",
   "execution_count": 115,
   "metadata": {},
   "outputs": [],
   "source": [
    "## Sequential Chain "
   ]
  },
  {
   "cell_type": "code",
   "execution_count": 116,
   "metadata": {},
   "outputs": [],
   "source": [
    "search_prompt = PromptTemplate(input_variables=[\"job\"], \n",
    "template = \"please tell me the average salary of {job}\")\n",
    "\n",
    "search_chain = LLMChain(llm = llm, prompt = search_prompt, output_key=\"salary\")"
   ]
  },
  {
   "cell_type": "code",
   "execution_count": 117,
   "metadata": {},
   "outputs": [],
   "source": [
    "famous_template = PromptTemplate(input_variables=[\"job\"], \n",
    "template=\"tell me some suggestions to work as a {job}\")\n",
    "famous_chain = LLMChain(llm = llm, prompt= famous_template, output_key=\"suggestion\")"
   ]
  },
  {
   "cell_type": "code",
   "execution_count": 118,
   "metadata": {},
   "outputs": [],
   "source": [
    "from langchain.chains import SequentialChain\n",
    "\n",
    "chain = SequentialChain(chains=[famous_chain, search_chain], \n",
    "    input_variables=[\"job\"],\n",
    "    output_variables=[\"salary\", \"suggestion\"])"
   ]
  },
  {
   "cell_type": "code",
   "execution_count": 119,
   "metadata": {},
   "outputs": [
    {
     "name": "stderr",
     "output_type": "stream",
     "text": [
      "/home/sky/Desktop/vscode/AI/langChain/venv/lib/python3.9/site-packages/langchain_core/_api/deprecation.py:117: LangChainDeprecationWarning: The function `__call__` was deprecated in LangChain 0.1.0 and will be removed in 0.2.0. Use invoke instead.\n",
      "  warn_deprecated(\n"
     ]
    },
    {
     "data": {
      "text/plain": [
       "{'job': 'software developer',\n",
       " 'salary': 'The average salary of a software developer varies depending on factors such as experience, location, and industry. According to the U.S. Bureau of Labor Statistics, as of May 2020, the median annual wage for software developers was $110,140. However, it is important to note that salaries can range significantly, with entry-level positions typically earning less and experienced professionals earning more. Additionally, salaries can vary greatly in different countries and regions around the world.',\n",
       " 'suggestion': '1. Gain a strong foundation in programming languages: Start by learning popular programming languages such as Python, Java, C++, or JavaScript. This will provide a solid base for software development.\\n\\n2. Earn a degree or certification: Consider pursuing a degree in computer science or software engineering. Alternatively, you can opt for online courses or certifications that focus on software development.\\n\\n3. Build a portfolio: Create a portfolio of projects to showcase your skills and expertise. This can include personal projects, open-source contributions, or freelance work. Having a portfolio demonstrates your abilities to potential employers.\\n\\n4. Join coding communities: Engage with coding communities such as GitHub, Stack Overflow, or Reddit. Participating in discussions, contributing to open-source projects, or seeking advice from experienced developers can help you learn and grow as a software developer.\\n\\n5. Internships and apprenticeships: Look for internship or apprenticeship opportunities to gain practical experience. These programs provide hands-on training and exposure to real-world software development projects.\\n\\n6. Networking: Attend tech events, conferences, or meetups to connect with other professionals in the field. Networking can lead to job opportunities, mentorship, and valuable industry insights.\\n\\n7. Continuous learning: Stay updated with the latest trends and technologies in software development. Follow industry blogs, subscribe to newsletters, and take online courses to enhance your skills.\\n\\n8. Problem-solving skills: Focus on developing strong problem-solving abilities. Software development often involves finding solutions to complex problems, so honing this skill will make you a valuable asset to any team.\\n\\n9. Communication skills: Work on improving your communication skills, as software development often involves collaborating with team members, stakeholders, and clients. Effective communication ensures smooth project execution and understanding of requirements.\\n\\n10. Stay motivated and passionate: Software development can be challenging, but maintaining motivation and passion for the craft is crucial. Stay curious, explore new technologies, and embrace challenges to continuously grow as a software developer.'}"
      ]
     },
     "execution_count": 119,
     "metadata": {},
     "output_type": "execute_result"
    }
   ],
   "source": [
    "chain({'job': \"software developer\"})"
   ]
  },
  {
   "cell_type": "markdown",
   "metadata": {},
   "source": [
    "## OpenAI chatModel"
   ]
  },
  {
   "cell_type": "code",
   "execution_count": 120,
   "metadata": {},
   "outputs": [],
   "source": [
    "from langchain.chat_models import ChatOpenAI\n",
    "from langchain.schema import HumanMessage, SystemMessage, AIMessage\n",
    "\n"
   ]
  },
  {
   "cell_type": "code",
   "execution_count": 123,
   "metadata": {},
   "outputs": [],
   "source": [
    "chatllm = ChatOpenAI(model=\"gpt-3.5-turbo-0613\",openai_api_key= api_key,temperature=0.7)"
   ]
  },
  {
   "cell_type": "code",
   "execution_count": 125,
   "metadata": {},
   "outputs": [
    {
     "name": "stderr",
     "output_type": "stream",
     "text": [
      "/home/sky/Desktop/vscode/AI/langChain/venv/lib/python3.9/site-packages/langchain_core/_api/deprecation.py:117: LangChainDeprecationWarning: The function `__call__` was deprecated in LangChain 0.1.7 and will be removed in 0.2.0. Use invoke instead.\n",
      "  warn_deprecated(\n"
     ]
    },
    {
     "data": {
      "text/plain": [
       "AIMessage(content=\"As a professional HR in a company working in the AI field, there are several key criteria that I consider valuable when hiring someone for an AI role. These standards include:\\n\\n1. Strong technical skills: AI is a complex and rapidly evolving field, so it is important for a candidate to have a solid foundation in areas such as machine learning, deep learning, natural language processing, computer vision, and data analysis. Proficiency in programming languages commonly used in AI development, such as Python or R, is also essential.\\n\\n2. Educational background: A degree in computer science, engineering, mathematics, or a related field is highly desirable. Advanced degrees or specialized certifications in AI or related disciplines demonstrate a deeper understanding and expertise in the field.\\n\\n3. Experience in AI projects: Prior experience working on AI projects, either in academic or professional settings, is highly valued. This showcases a candidate's ability to apply AI techniques to real-world scenarios and navigate the challenges that come with it.\\n\\n4. Problem-solving and analytical thinking: AI professionals need to have strong problem-solving skills and be able to think critically and analytically. They should be able to break down complex problems into smaller components and develop innovative solutions.\\n\\n5. Strong mathematical and statistical skills: AI heavily relies on mathematical concepts and statistical modeling. Candidates should have a solid understanding of linear algebra, calculus, probability, and statistics, as well as experience with relevant tools and libraries.\\n\\n6. Communication and teamwork: AI professionals often work in interdisciplinary teams and need to effectively communicate complex concepts to both technical and non-technical stakeholders. Strong communication skills, both written and verbal, are essential, as well as the ability to collaborate and work well in a team environment.\\n\\n7. Continuous learning and adaptability: AI is a rapidly evolving field, and professionals need to stay updated with the latest advancements and research. A candidate who demonstrates a passion for learning, a curiosity for exploring new technologies and methodologies, and a willingness to adapt to changing circumstances is highly valued.\\n\\n8. Ethical and responsible AI practices: With the growing impact of AI on society, candidates who demonstrate a strong understanding of ethical considerations and responsible AI practices are highly sought after. This includes awareness of bias, fairness, transparency, and privacy concerns in AI systems.\\n\\nBy assessing candidates against these standards, we can ensure that we hire individuals who possess the necessary skills, knowledge, and mindset to contribute effectively to our AI initiatives.\")"
      ]
     },
     "execution_count": 125,
     "metadata": {},
     "output_type": "execute_result"
    }
   ],
   "source": [
    "chatllm([\n",
    "    SystemMessage(content = \"You are a professional HR from huge company and you are hiring someone work in AI area\"),\n",
    "    HumanMessage(content = \"Please tell me the standard that you think it's valueble for you to see\")\n",
    "])"
   ]
  },
  {
   "cell_type": "code",
   "execution_count": null,
   "metadata": {},
   "outputs": [],
   "source": []
  }
 ],
 "metadata": {
  "kernelspec": {
   "display_name": "Python 3",
   "language": "python",
   "name": "python3"
  },
  "language_info": {
   "codemirror_mode": {
    "name": "ipython",
    "version": 3
   },
   "file_extension": ".py",
   "mimetype": "text/x-python",
   "name": "python",
   "nbconvert_exporter": "python",
   "pygments_lexer": "ipython3",
   "version": "3.9.0"
  }
 },
 "nbformat": 4,
 "nbformat_minor": 2
}
